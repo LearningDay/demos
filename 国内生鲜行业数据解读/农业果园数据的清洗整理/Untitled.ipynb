{
 "cells": [
  {
   "cell_type": "code",
   "execution_count": 3,
   "metadata": {},
   "outputs": [],
   "source": [
    "import pandas as pd\n",
    "import numpy as np\n",
    "import matplotlib.pyplot as plt\n",
    "import seaborn as sns\n",
    "%matplotlib inline\n",
    "\n",
    "plt.rcParams['font.sans-serif']=['SimHei'] # 全局设置为黑体\n",
    "plt.rcParams['axes.unicode_minus'] = False # 显示负坐标"
   ]
  },
  {
   "cell_type": "markdown",
   "metadata": {},
   "source": [
    "* ganju 柑橘园面积\n",
    "* guaguo 瓜果面积 \n",
    "* guaguosku 瓜果公顷产量（kg）\n",
    "* guoyuan 各省果园面积\n",
    "* guoyuan1 全果园面积\n",
    "* apple  各省苹果园面积\n",
    "* applesku  各省苹果产量\n",
    "* putao 各省葡萄园面积\n",
    "* fruit 各省水果产量\n",
    "* banana 各省相较产量"
   ]
  },
  {
   "cell_type": "code",
   "execution_count": 49,
   "metadata": {},
   "outputs": [],
   "source": [
    "ganju = pd.read_csv('ganju.csv',encoding='gbk',skiprows=3,index_col=0)\n",
    "guaguo = pd.read_csv('guaguo.csv',encoding='gbk',skiprows=2,index_col=0)\n",
    "guaguosku = pd.read_csv('guaguosku.csv',encoding='gbk',skiprows=2,index_col=0)\n",
    "guoyuan = pd.read_csv('guoyuan.csv',skiprows=3,encoding='gbk',index_col=0)\n",
    "guoyuan1 = pd.read_csv('guoyuan1.csv',skiprows=2,encoding='gbk',index_col=0) \n",
    "apple = pd.read_csv('pingguo.csv',encoding='gbk',skiprows=3,index_col=0)\n",
    "applesku = pd.read_csv('pingguosku.csv',encoding='gbk',skiprows=3,index_col=0)\n",
    "putao = pd.read_csv('putao.csv',encoding='gbk',skiprows=3,index_col=0)\n",
    "fruit = pd.read_csv('shuiguosku.csv',encoding='gbk',skiprows=3,index_col=0)\n",
    "banana = pd.read_csv('xiangjiaosku.csv',encoding='gbk',skiprows=3,index_col=0)"
   ]
  },
  {
   "cell_type": "code",
   "execution_count": 50,
   "metadata": {},
   "outputs": [],
   "source": [
    "banana['种类'] = ['香蕉产量']*len(banana)\n",
    "fruit['种类']=['水果产量']*len(fruit)\n",
    "putao['种类']=['葡萄园面积']*len(putao)\n",
    "applesku['种类']=['苹果产量']*len(applesku)\n",
    "apple['种类']=['苹果园面积']*len(apple)\n",
    "guoyuan['种类']=['果园面积']*len(guoyuan)"
   ]
  },
  {
   "cell_type": "code",
   "execution_count": 66,
   "metadata": {},
   "outputs": [],
   "source": [
    "def f(df):\n",
    "    df_n=df.copy()\n",
    "    df_n = df_n.reset_index().set_index(['地区','种类'])\n",
    "    return df_n"
   ]
  },
  {
   "cell_type": "code",
   "execution_count": 69,
   "metadata": {},
   "outputs": [],
   "source": [
    "xiangjiao = f(banana)\n",
    "shuiguo = f(fruit)\n",
    "putao_n = f(putao)\n",
    "pintguo = f(apple)\n",
    "pingguos = f(applesku)\n",
    "guoyuans = f(guoyuan)"
   ]
  },
  {
   "cell_type": "code",
   "execution_count": 72,
   "metadata": {
    "scrolled": false
   },
   "outputs": [
    {
     "name": "stderr",
     "output_type": "stream",
     "text": [
      "d:\\Anaconda3\\lib\\site-packages\\ipykernel_launcher.py:1: FutureWarning: Sorting because non-concatenation axis is not aligned. A future version\n",
      "of pandas will change to not sort by default.\n",
      "\n",
      "To accept the future behavior, pass 'sort=True'.\n",
      "\n",
      "To retain the current behavior and silence the warning, pass sort=False\n",
      "\n",
      "  \"\"\"Entry point for launching an IPython kernel.\n"
     ]
    }
   ],
   "source": [
    "data = pd.concat([xiangjiao,shuiguo,putao_n,pintguo,pingguos,guoyuans])"
   ]
  },
  {
   "cell_type": "code",
   "execution_count": 88,
   "metadata": {},
   "outputs": [],
   "source": [
    "data.sort_index(level=0).reset_index().to_csv('各省水果.csv',encoding='gbk')"
   ]
  },
  {
   "cell_type": "code",
   "execution_count": null,
   "metadata": {},
   "outputs": [],
   "source": []
  }
 ],
 "metadata": {
  "kernelspec": {
   "display_name": "Python 3",
   "language": "python",
   "name": "python3"
  },
  "language_info": {
   "codemirror_mode": {
    "name": "ipython",
    "version": 3
   },
   "file_extension": ".py",
   "mimetype": "text/x-python",
   "name": "python",
   "nbconvert_exporter": "python",
   "pygments_lexer": "ipython3",
   "version": "3.6.5"
  }
 },
 "nbformat": 4,
 "nbformat_minor": 2
}
