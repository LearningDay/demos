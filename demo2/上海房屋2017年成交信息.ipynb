{
 "cells": [
  {
   "cell_type": "code",
   "execution_count": 1,
   "metadata": {},
   "outputs": [],
   "source": [
    "import numpy as np\n",
    "import pandas as pd\n",
    "import matplotlib.pyplot as plt\n",
    "import seaborn as sns\n",
    "from scipy import stats\n",
    "%matplotlib inline"
   ]
  },
  {
   "cell_type": "code",
   "execution_count": 2,
   "metadata": {},
   "outputs": [],
   "source": [
    "plt.rcParams['font.family'] = 'SimHei' # 全局设置为黑体\n",
    "plt.rcParams['font.size'] = 15"
   ]
  },
  {
   "cell_type": "markdown",
   "metadata": {},
   "source": [
    "# 1 数据处理\n",
    "\n",
    "## 1.1 预处理：观察"
   ]
  },
  {
   "cell_type": "code",
   "execution_count": 3,
   "metadata": {},
   "outputs": [],
   "source": [
    "shfj = pd.read_csv('house.csv',index_col=0,na_values=['暂无资料','暂无资料年'])#读取，并指定索引、缺失值"
   ]
  },
  {
   "cell_type": "code",
   "execution_count": 4,
   "metadata": {},
   "outputs": [
    {
     "name": "stdout",
     "output_type": "stream",
     "text": [
      "<class 'pandas.core.frame.DataFrame'>\n",
      "Int64Index: 240 entries, 0 to 239\n",
      "Data columns (total 14 columns):\n",
      "標題       240 non-null object\n",
      "产权性质     228 non-null object\n",
      "住宅类别     218 non-null object\n",
      "建筑类别     188 non-null object\n",
      "参考月供     0 non-null float64\n",
      "年代       223 non-null object\n",
      "建筑面积     240 non-null float64\n",
      "户型       240 non-null object\n",
      "楼层       228 non-null object\n",
      "物 业 费    215 non-null object\n",
      "物业类型     240 non-null object\n",
      "结构       181 non-null object\n",
      "装修       228 non-null object\n",
      "總價       237 non-null float64\n",
      "dtypes: float64(3), object(11)\n",
      "memory usage: 17.8+ KB\n"
     ]
    }
   ],
   "source": [
    "shfj.info()"
   ]
  },
  {
   "cell_type": "code",
   "execution_count": 5,
   "metadata": {
    "scrolled": false
   },
   "outputs": [
    {
     "data": {
      "text/html": [
       "<div>\n",
       "<style scoped>\n",
       "    .dataframe tbody tr th:only-of-type {\n",
       "        vertical-align: middle;\n",
       "    }\n",
       "\n",
       "    .dataframe tbody tr th {\n",
       "        vertical-align: top;\n",
       "    }\n",
       "\n",
       "    .dataframe thead th {\n",
       "        text-align: right;\n",
       "    }\n",
       "</style>\n",
       "<table border=\"1\" class=\"dataframe\">\n",
       "  <thead>\n",
       "    <tr style=\"text-align: right;\">\n",
       "      <th></th>\n",
       "      <th>標題</th>\n",
       "      <th>产权性质</th>\n",
       "      <th>住宅类别</th>\n",
       "      <th>建筑类别</th>\n",
       "      <th>参考月供</th>\n",
       "      <th>年代</th>\n",
       "      <th>建筑面积</th>\n",
       "      <th>户型</th>\n",
       "      <th>楼层</th>\n",
       "      <th>物 业 费</th>\n",
       "      <th>物业类型</th>\n",
       "      <th>结构</th>\n",
       "      <th>装修</th>\n",
       "      <th>總價</th>\n",
       "    </tr>\n",
       "  </thead>\n",
       "  <tbody>\n",
       "    <tr>\n",
       "      <th>0</th>\n",
       "      <td>急售70年产权房源 房东装修 户型正气 产证清晰 随时看房</td>\n",
       "      <td>个人产权</td>\n",
       "      <td>普通住宅</td>\n",
       "      <td>板楼</td>\n",
       "      <td>NaN</td>\n",
       "      <td>1989年</td>\n",
       "      <td>70.4</td>\n",
       "      <td>2室2厅1厨1卫</td>\n",
       "      <td>中层(共6层)</td>\n",
       "      <td>NaN</td>\n",
       "      <td>住宅</td>\n",
       "      <td>平层</td>\n",
       "      <td>精装修</td>\n",
       "      <td>30.6</td>\n",
       "    </tr>\n",
       "  </tbody>\n",
       "</table>\n",
       "</div>"
      ],
      "text/plain": [
       "                              標題  产权性质  住宅类别 建筑类别  参考月供     年代  建筑面积  \\\n",
       "0  急售70年产权房源 房东装修 户型正气 产证清晰 随时看房  个人产权  普通住宅   板楼   NaN  1989年  70.4   \n",
       "\n",
       "         户型       楼层 物 业 费 物业类型  结构   装修    總價  \n",
       "0  2室2厅1厨1卫  中层(共6层)   NaN   住宅  平层  精装修  30.6  "
      ]
     },
     "execution_count": 5,
     "metadata": {},
     "output_type": "execute_result"
    }
   ],
   "source": [
    "shfj.head(1)"
   ]
  },
  {
   "cell_type": "markdown",
   "metadata": {},
   "source": [
    "## 1.2 缺失值处理\n",
    "* 缺失值统计\n",
    "* 根据需求，舍弃或填充缺失值\n",
    "* 拆分字符串列"
   ]
  },
  {
   "cell_type": "code",
   "execution_count": 6,
   "metadata": {
    "scrolled": false
   },
   "outputs": [
    {
     "data": {
      "text/plain": [
       "標題         0\n",
       "产权性质      12\n",
       "住宅类别      22\n",
       "建筑类别      52\n",
       "参考月供     240\n",
       "年代        17\n",
       "建筑面积       0\n",
       "户型         0\n",
       "楼层        12\n",
       "物 业 费     25\n",
       "物业类型       0\n",
       "结构        59\n",
       "装修        12\n",
       "總價         3\n",
       "dtype: int64"
      ]
     },
     "execution_count": 6,
     "metadata": {},
     "output_type": "execute_result"
    }
   ],
   "source": [
    "shfj.isnull().sum() # 缺失值统计"
   ]
  },
  {
   "cell_type": "code",
   "execution_count": 7,
   "metadata": {
    "scrolled": true
   },
   "outputs": [
    {
     "data": {
      "text/plain": [
       "標題       0.000000\n",
       "产权性质     0.052632\n",
       "住宅类别     0.100917\n",
       "建筑类别     0.276596\n",
       "参考月供          inf\n",
       "年代       0.076233\n",
       "建筑面积     0.000000\n",
       "户型       0.000000\n",
       "楼层       0.052632\n",
       "物 业 费    0.116279\n",
       "物业类型     0.000000\n",
       "结构       0.325967\n",
       "装修       0.052632\n",
       "總價       0.012658\n",
       "dtype: float64"
      ]
     },
     "execution_count": 7,
     "metadata": {},
     "output_type": "execute_result"
    }
   ],
   "source": [
    "shfj.isnull().sum()/shfj.count()# 统计各列缺失值占比"
   ]
  },
  {
   "cell_type": "code",
   "execution_count": 8,
   "metadata": {},
   "outputs": [],
   "source": [
    "shfj.drop('参考月供',axis=1,inplace=True) # 删除全为缺失值的列"
   ]
  },
  {
   "cell_type": "markdown",
   "metadata": {},
   "source": [
    "###  1.2.1 【物业费】 列的处理\n",
    "* 找规律，整理为单一数字\n",
    "* 填充缺失值"
   ]
  },
  {
   "cell_type": "code",
   "execution_count": 9,
   "metadata": {},
   "outputs": [
    {
     "data": {
      "text/plain": [
       "215"
      ]
     },
     "execution_count": 9,
     "metadata": {},
     "output_type": "execute_result"
    }
   ],
   "source": [
    "(shfj['物 业 费'].dropna().str.contains('元/')).sum()# 寻找列中各元素 包含的 共同特征"
   ]
  },
  {
   "cell_type": "code",
   "execution_count": 10,
   "metadata": {},
   "outputs": [],
   "source": [
    "shfj['物业费（元/平米）']=shfj['物 业 费'].str.split('元',expand=True)[0].astype(float)# 只取数组，创建新列"
   ]
  },
  {
   "cell_type": "code",
   "execution_count": 11,
   "metadata": {},
   "outputs": [],
   "source": [
    "shfj['物业费（元/平米）'].fillna(shfj['物业费（元/平米）'].median(),inplace=True)# 缺失值填充为该列 中位数"
   ]
  },
  {
   "cell_type": "markdown",
   "metadata": {},
   "source": [
    "### 1.2.2 【總價】 列的处理\n",
    "* 缺失值填充为：每平米均价 * 建筑面积\n",
    "* 0~1标准化"
   ]
  },
  {
   "cell_type": "code",
   "execution_count": 12,
   "metadata": {},
   "outputs": [],
   "source": [
    "shfj['总价（万元）']=shfj['總價'].fillna((shfj['總價']/shfj['建筑面积']).mean()*shfj['建筑面积'])# 填充缺失值=每平米价格的平均值 * 建筑面积"
   ]
  },
  {
   "cell_type": "code",
   "execution_count": 13,
   "metadata": {},
   "outputs": [],
   "source": [
    "shfj['均价（元/平米）']=shfj['总价（万元）']*10000/shfj['建筑面积'] # 注意单位"
   ]
  },
  {
   "cell_type": "code",
   "execution_count": 14,
   "metadata": {
    "scrolled": true
   },
   "outputs": [],
   "source": [
    "shfj['均价标准化'] = shfj[['均价（元/平米）']].apply(lambda x:(x-x.min())/(x.max() - x.min()),axis=0) # 0~1 标准化"
   ]
  },
  {
   "cell_type": "markdown",
   "metadata": {},
   "source": [
    "### 1.2.3 【物业类型】 列的处理\n",
    "* 创建虚拟变量"
   ]
  },
  {
   "cell_type": "code",
   "execution_count": 15,
   "metadata": {},
   "outputs": [
    {
     "data": {
      "text/plain": [
       "住宅    228\n",
       "别墅     12\n",
       "Name: 物业类型, dtype: int64"
      ]
     },
     "execution_count": 15,
     "metadata": {},
     "output_type": "execute_result"
    }
   ],
   "source": [
    "shfj['物业类型'].value_counts()"
   ]
  },
  {
   "cell_type": "code",
   "execution_count": 16,
   "metadata": {},
   "outputs": [],
   "source": [
    "df = pd.get_dummies(shfj['物业类型']) # 创建虚拟变量 ，用于绘制 热力图\n",
    "shfj = shfj.join(df) # 按索引连接 "
   ]
  },
  {
   "cell_type": "markdown",
   "metadata": {},
   "source": [
    "### 1.2.4 【户型】【建筑年代】 列处理"
   ]
  },
  {
   "cell_type": "code",
   "execution_count": 17,
   "metadata": {},
   "outputs": [],
   "source": [
    "shfj['建筑年代']=shfj['年代'].str.split('年',expand=True).get(0).astype(float)"
   ]
  },
  {
   "cell_type": "code",
   "execution_count": 18,
   "metadata": {},
   "outputs": [
    {
     "data": {
      "text/plain": [
       "0"
      ]
     },
     "execution_count": 18,
     "metadata": {},
     "output_type": "execute_result"
    }
   ],
   "source": [
    "(shfj['户型'].str.split('室').map(len)!=2).sum()# 寻找拆分规律"
   ]
  },
  {
   "cell_type": "code",
   "execution_count": 19,
   "metadata": {},
   "outputs": [],
   "source": [
    "shfj['几室'] = shfj['户型'].str.split('室',expand=True)[0].astype(int)"
   ]
  },
  {
   "cell_type": "code",
   "execution_count": 20,
   "metadata": {},
   "outputs": [],
   "source": [
    "shfj['几厅']=shfj['户型'].str.split('室',expand=True)[1].str.split('厅',expand=True)[0].astype(int)"
   ]
  },
  {
   "cell_type": "markdown",
   "metadata": {},
   "source": [
    "### 1.3离散化\n",
    "* 连续数据离散化，作为查看数据分布使用"
   ]
  },
  {
   "cell_type": "code",
   "execution_count": 21,
   "metadata": {},
   "outputs": [],
   "source": [
    "shfj['总价分箱'] = pd.cut(shfj['总价（万元）'],bins=[0,50,100,500,1000,12345])"
   ]
  },
  {
   "cell_type": "code",
   "execution_count": 22,
   "metadata": {},
   "outputs": [],
   "source": [
    "shfj['总价分位'] = pd.qcut(shfj['总价（万元）'],q=10,labels=list('abcdefghij'))"
   ]
  },
  {
   "cell_type": "markdown",
   "metadata": {},
   "source": [
    "## 1.4 行列取舍——整理完毕"
   ]
  },
  {
   "cell_type": "code",
   "execution_count": 23,
   "metadata": {},
   "outputs": [],
   "source": [
    "demos = shfj[['建筑年代','物业费（元/平米）','物业类型','总价（万元）',\n",
    "              '均价（元/平米）','建筑面积','结构','住宅类别','产权性质','建筑类别','几室','几厅']]"
   ]
  },
  {
   "cell_type": "markdown",
   "metadata": {},
   "source": [
    "# 2 数据分析\n",
    "\n",
    "## 2.1 数据特征分析\n",
    "\n",
    "\n",
    "* 相关性分析\n",
    "* 集中趋势，离散趋势"
   ]
  },
  {
   "cell_type": "markdown",
   "metadata": {},
   "source": [
    "## 2.1.1集中趋势、离散趋势"
   ]
  },
  {
   "cell_type": "code",
   "execution_count": 24,
   "metadata": {
    "scrolled": false
   },
   "outputs": [
    {
     "data": {
      "text/plain": [
       "count      240.000000\n",
       "mean       642.626819\n",
       "std       1292.586408\n",
       "min         30.600000\n",
       "25%        219.998355\n",
       "50%        400.000000\n",
       "75%        564.500000\n",
       "max      11000.000000\n",
       "Name: 总价（万元）, dtype: float64"
      ]
     },
     "execution_count": 24,
     "metadata": {},
     "output_type": "execute_result"
    }
   ],
   "source": [
    "demos['总价（万元）'].describe()"
   ]
  },
  {
   "cell_type": "code",
   "execution_count": 25,
   "metadata": {},
   "outputs": [
    {
     "data": {
      "text/plain": [
       "<matplotlib.axes._subplots.AxesSubplot at 0x8cbbf90>"
      ]
     },
     "execution_count": 25,
     "metadata": {},
     "output_type": "execute_result"
    },
    {
     "data": {
      "image/png": "[encoded data removed]",
      "text/plain": [
       "<Figure size 432x288 with 1 Axes>"
      ]
     },
     "metadata": {},
     "output_type": "display_data"
    }
   ],
   "source": [
    "demos['总价（万元）'].plot.box()"
   ]
  },
  {
   "cell_type": "code",
   "execution_count": 26,
   "metadata": {},
   "outputs": [
    {
     "data": {
      "text/plain": [
       "40.52782565750391"
      ]
     },
     "execution_count": 26,
     "metadata": {},
     "output_type": "execute_result"
    }
   ],
   "source": [
    "demos['总价（万元）'].kurt() # 峰度"
   ]
  },
  {
   "cell_type": "code",
   "execution_count": 27,
   "metadata": {
    "scrolled": true
   },
   "outputs": [
    {
     "data": {
      "text/plain": [
       "6.0171911532748075"
      ]
     },
     "execution_count": 27,
     "metadata": {},
     "output_type": "execute_result"
    }
   ],
   "source": [
    "demos['总价（万元）'].skew() # 偏度"
   ]
  },
  {
   "cell_type": "markdown",
   "metadata": {},
   "source": [
    "### 2.1.2 相关性分析"
   ]
  },
  {
   "cell_type": "code",
   "execution_count": 29,
   "metadata": {
    "scrolled": true
   },
   "outputs": [
    {
     "data": {
      "text/plain": [
       "<matplotlib.collections.PathCollection at 0x8c0a9d0>"
      ]
     },
     "execution_count": 29,
     "metadata": {},
     "output_type": "execute_result"
    },
    {
     "data": {
      "image/png": "[encoded data removed]",
      "text/plain": [
       "<Figure size 432x288 with 1 Axes>"
      ]
     },
     "metadata": {},
     "output_type": "display_data"
    }
   ],
   "source": [
    "# pd.scatter_matrix(demos,figsize=(8,8),marker='+')\n",
    "plt.scatter(demos['均价（元/平米）'],demos['物业费（元/平米）'])"
   ]
  },
  {
   "cell_type": "code",
   "execution_count": 30,
   "metadata": {},
   "outputs": [
    {
     "data": {
      "text/plain": [
       "KstestResult(statistic=0.10648411593817408, pvalue=0.007990960793191837)"
      ]
     },
     "execution_count": 30,
     "metadata": {},
     "output_type": "execute_result"
    }
   ],
   "source": [
    "u = demos['均价（元/平米）'].mean()\n",
    "s = demos['均价（元/平米）'].std()\n",
    "stats.kstest(demos['均价（元/平米）'],'norm',(u,s))#正态性检验"
   ]
  },
  {
   "cell_type": "code",
   "execution_count": 31,
   "metadata": {},
   "outputs": [
    {
     "data": {
      "text/plain": [
       "KstestResult(statistic=0.9515180129660263, pvalue=0.0)"
      ]
     },
     "execution_count": 31,
     "metadata": {},
     "output_type": "execute_result"
    }
   ],
   "source": [
    "u1 = demos['物业费（元/平米）'].mean()\n",
    "s1 = demos['物业费（元/平米）'].std()\n",
    "stats.kstest(demos['物业费（元/平米）'],'norm',(u,s))#正态性检验"
   ]
  },
  {
   "cell_type": "code",
   "execution_count": 32,
   "metadata": {
    "scrolled": false
   },
   "outputs": [
    {
     "data": {
      "text/html": [
       "<div>\n",
       "<style scoped>\n",
       "    .dataframe tbody tr th:only-of-type {\n",
       "        vertical-align: middle;\n",
       "    }\n",
       "\n",
       "    .dataframe tbody tr th {\n",
       "        vertical-align: top;\n",
       "    }\n",
       "\n",
       "    .dataframe thead th {\n",
       "        text-align: right;\n",
       "    }\n",
       "</style>\n",
       "<table border=\"1\" class=\"dataframe\">\n",
       "  <thead>\n",
       "    <tr style=\"text-align: right;\">\n",
       "      <th></th>\n",
       "      <th>均价（元/平米）</th>\n",
       "      <th>物业费（元/平米）</th>\n",
       "    </tr>\n",
       "  </thead>\n",
       "  <tbody>\n",
       "    <tr>\n",
       "      <th>均价（元/平米）</th>\n",
       "      <td>1.000000</td>\n",
       "      <td>0.096254</td>\n",
       "    </tr>\n",
       "    <tr>\n",
       "      <th>物业费（元/平米）</th>\n",
       "      <td>0.096254</td>\n",
       "      <td>1.000000</td>\n",
       "    </tr>\n",
       "  </tbody>\n",
       "</table>\n",
       "</div>"
      ],
      "text/plain": [
       "           均价（元/平米）  物业费（元/平米）\n",
       "均价（元/平米）   1.000000   0.096254\n",
       "物业费（元/平米）  0.096254   1.000000"
      ]
     },
     "execution_count": 32,
     "metadata": {},
     "output_type": "execute_result"
    }
   ],
   "source": [
    "demos[['均价（元/平米）','物业费（元/平米）']].corr(method='spearman')# 斯皮尔曼相关系数"
   ]
  },
  {
   "cell_type": "markdown",
   "metadata": {},
   "source": [
    "* 物业费与总价，斯皮尔曼相关系数低于0.3，不存在线性相关"
   ]
  },
  {
   "cell_type": "markdown",
   "metadata": {},
   "source": [
    "## 2.2 可视化分析\n",
    "\n",
    "\n",
    "* 三维度的散点图：\n",
    "\n",
    "    \n",
    "    \n",
    "* 箱线图——分布分析"
   ]
  },
  {
   "cell_type": "code",
   "execution_count": 33,
   "metadata": {
    "scrolled": false
   },
   "outputs": [
    {
     "data": {
      "text/plain": [
       "<matplotlib.axes._subplots.AxesSubplot at 0x987c090>"
      ]
     },
     "execution_count": 33,
     "metadata": {},
     "output_type": "execute_result"
    },
    {
     "data": {
      "image/png": "[encoded data removed]",
      "text/plain": [
       "<Figure size 864x864 with 3 Axes>"
      ]
     },
     "metadata": {},
     "output_type": "display_data"
    }
   ],
   "source": [
    "fig = plt.figure(figsize=(12,12))\n",
    "ax1=fig.add_subplot(2,1,1)\n",
    "shfj.plot.scatter(y='建筑面积',x='建筑年代',ax=ax1,c=shfj['均价标准化'],cmap='Blues',s=shfj['均价（元/平米）']/100,alpha=0.5)\n",
    "\n",
    "ax2 = fig.add_subplot(2,1,2)\n",
    "shfj.dropna().boxplot(column='建筑面积',by='总价分箱',ax=ax2)"
   ]
  },
  {
   "cell_type": "markdown",
   "metadata": {},
   "source": [
    "* 各个装修的房屋成交总价分布\n",
    "* 低于50平米的房屋成家量很少"
   ]
  },
  {
   "cell_type": "code",
   "execution_count": 34,
   "metadata": {
    "scrolled": false
   },
   "outputs": [
    {
     "data": {
      "text/plain": [
       "<matplotlib.axes._subplots.AxesSubplot at 0x9b94bb0>"
      ]
     },
     "execution_count": 34,
     "metadata": {},
     "output_type": "execute_result"
    },
    {
     "data": {
      "image/png": "[encoded data removed]",
      "text/plain": [
       "<Figure size 432x288 with 1 Axes>"
      ]
     },
     "metadata": {},
     "output_type": "display_data"
    }
   ],
   "source": [
    "sns.stripplot(x='装修',y='总价（万元）',data=shfj,jitter=True,hue='住宅类别',size=8)"
   ]
  },
  {
   "cell_type": "code",
   "execution_count": 35,
   "metadata": {
    "scrolled": false
   },
   "outputs": [],
   "source": [
    "zj = shfj['总价分箱'].value_counts(normalize=True)"
   ]
  },
  {
   "cell_type": "code",
   "execution_count": 36,
   "metadata": {},
   "outputs": [
    {
     "data": {
      "text/plain": [
       "<matplotlib.axes._subplots.AxesSubplot at 0x9f8bc90>"
      ]
     },
     "execution_count": 36,
     "metadata": {},
     "output_type": "execute_result"
    },
    {
     "data": {
      "image/png": "[encoded data removed]",
      "text/plain": [
       "<Figure size 432x432 with 1 Axes>"
      ]
     },
     "metadata": {},
     "output_type": "display_data"
    }
   ],
   "source": [
    "zj.plot.pie(figsize=(6,6),startangle=90,explode=(0,0.5,0.3,0,0))"
   ]
  },
  {
   "cell_type": "markdown",
   "metadata": {},
   "source": [
    "# 设置表格样式\n",
    "* 设置极值 背景高亮\n",
    "* 缺失值填充为指定颜色\n",
    "* 数字分类设置颜色"
   ]
  },
  {
   "cell_type": "code",
   "execution_count": 37,
   "metadata": {},
   "outputs": [],
   "source": [
    "def colors(val):\n",
    "    if val>50000:\n",
    "        color='red'\n",
    "    else:\n",
    "        color='blue'\n",
    "    return('color:%s'%color)\n",
    "\n",
    "def colorss(val):\n",
    "    if val>500:\n",
    "        color='red'\n",
    "    elif val<100:\n",
    "        color = 'blue'        \n",
    "    else:\n",
    "        color='pink'\n",
    "    return('color:%s'%color)\n"
   ]
  },
  {
   "cell_type": "code",
   "execution_count": 38,
   "metadata": {},
   "outputs": [
    {
     "data": {
      "text/html": [
       "<style  type=\"text/css\" >\n",
       "    #T_95bfc478_4090_11e9_aa0b_f46d046610b5row0_col1 {\n",
       "            : ;\n",
       "            : ;\n",
       "            width:  10em;\n",
       "             height:  80%;\n",
       "            background:  linear-gradient(90deg,#d65f5f 28.2%, transparent 0%);\n",
       "            : ;\n",
       "        }    #T_95bfc478_4090_11e9_aa0b_f46d046610b5row0_col3 {\n",
       "            color: blue;\n",
       "            : ;\n",
       "            background-color:  pink;\n",
       "            : ;\n",
       "        }    #T_95bfc478_4090_11e9_aa0b_f46d046610b5row0_col4 {\n",
       "            color: blue;\n",
       "            : ;\n",
       "            background-color:  pink;\n",
       "            : ;\n",
       "        }    #T_95bfc478_4090_11e9_aa0b_f46d046610b5row1_col1 {\n",
       "            : ;\n",
       "            : ;\n",
       "            width:  10em;\n",
       "             height:  80%;\n",
       "            background:  linear-gradient(90deg,#d65f5f 15.4%, transparent 0%);\n",
       "            : ;\n",
       "        }    #T_95bfc478_4090_11e9_aa0b_f46d046610b5row1_col3 {\n",
       "            color: pink;\n",
       "            : ;\n",
       "            : ;\n",
       "            : ;\n",
       "        }    #T_95bfc478_4090_11e9_aa0b_f46d046610b5row1_col4 {\n",
       "            color: red;\n",
       "            : ;\n",
       "            : ;\n",
       "            : ;\n",
       "        }    #T_95bfc478_4090_11e9_aa0b_f46d046610b5row1_col11 {\n",
       "            : ;\n",
       "            background-color:  pink;\n",
       "            : ;\n",
       "        }    #T_95bfc478_4090_11e9_aa0b_f46d046610b5row2_col1 {\n",
       "            : ;\n",
       "            : ;\n",
       "            width:  10em;\n",
       "             height:  80%;\n",
       "            background:  linear-gradient(90deg,#d65f5f 79.5%, transparent 0%);\n",
       "            : ;\n",
       "        }    #T_95bfc478_4090_11e9_aa0b_f46d046610b5row2_col3 {\n",
       "            color: red;\n",
       "            background-color:  #861000;\n",
       "            : ;\n",
       "            : ;\n",
       "        }    #T_95bfc478_4090_11e9_aa0b_f46d046610b5row2_col4 {\n",
       "            color: red;\n",
       "            background-color:  #861000;\n",
       "            : ;\n",
       "            : ;\n",
       "        }    #T_95bfc478_4090_11e9_aa0b_f46d046610b5row2_col5 {\n",
       "            background-color:  #861000;\n",
       "            : ;\n",
       "            : ;\n",
       "        }    #T_95bfc478_4090_11e9_aa0b_f46d046610b5row2_col6 {\n",
       "            background-color:  blue;\n",
       "        }    #T_95bfc478_4090_11e9_aa0b_f46d046610b5row2_col9 {\n",
       "            background-color:  blue;\n",
       "        }    #T_95bfc478_4090_11e9_aa0b_f46d046610b5row2_col10 {\n",
       "            background-color:  #861000;\n",
       "            : ;\n",
       "            : ;\n",
       "        }    #T_95bfc478_4090_11e9_aa0b_f46d046610b5row3_col1 {\n",
       "            : ;\n",
       "            background-color:  pink;\n",
       "            width:  10em;\n",
       "             height:  80%;\n",
       "            : ;\n",
       "        }    #T_95bfc478_4090_11e9_aa0b_f46d046610b5row3_col3 {\n",
       "            color: pink;\n",
       "            : ;\n",
       "            : ;\n",
       "            : ;\n",
       "        }    #T_95bfc478_4090_11e9_aa0b_f46d046610b5row3_col4 {\n",
       "            color: blue;\n",
       "            : ;\n",
       "            : ;\n",
       "            : ;\n",
       "        }    #T_95bfc478_4090_11e9_aa0b_f46d046610b5row3_col7 {\n",
       "            background-color:  blue;\n",
       "        }    #T_95bfc478_4090_11e9_aa0b_f46d046610b5row3_col11 {\n",
       "            : ;\n",
       "            background-color:  pink;\n",
       "            : ;\n",
       "        }    #T_95bfc478_4090_11e9_aa0b_f46d046610b5row4_col1 {\n",
       "            : ;\n",
       "            background-color:  pink;\n",
       "            width:  10em;\n",
       "             height:  80%;\n",
       "            : ;\n",
       "        }    #T_95bfc478_4090_11e9_aa0b_f46d046610b5row4_col3 {\n",
       "            color: pink;\n",
       "            : ;\n",
       "            : ;\n",
       "            : ;\n",
       "        }    #T_95bfc478_4090_11e9_aa0b_f46d046610b5row4_col4 {\n",
       "            color: blue;\n",
       "            : ;\n",
       "            : ;\n",
       "            : ;\n",
       "        }    #T_95bfc478_4090_11e9_aa0b_f46d046610b5row4_col11 {\n",
       "            : ;\n",
       "            background-color:  pink;\n",
       "            : ;\n",
       "        }    #T_95bfc478_4090_11e9_aa0b_f46d046610b5row5_col0 {\n",
       "            : ;\n",
       "            background-color:  pink;\n",
       "            : ;\n",
       "        }    #T_95bfc478_4090_11e9_aa0b_f46d046610b5row5_col1 {\n",
       "            : ;\n",
       "            : ;\n",
       "            width:  10em;\n",
       "             height:  80%;\n",
       "            background:  linear-gradient(90deg,#d65f5f 11.5%, transparent 0%);\n",
       "            : ;\n",
       "        }    #T_95bfc478_4090_11e9_aa0b_f46d046610b5row5_col3 {\n",
       "            color: pink;\n",
       "            : ;\n",
       "            : ;\n",
       "            : ;\n",
       "        }    #T_95bfc478_4090_11e9_aa0b_f46d046610b5row5_col4 {\n",
       "            color: red;\n",
       "            : ;\n",
       "            : ;\n",
       "            : ;\n",
       "        }    #T_95bfc478_4090_11e9_aa0b_f46d046610b5row5_col5 {\n",
       "            : ;\n",
       "            background-color:  pink;\n",
       "            : ;\n",
       "        }    #T_95bfc478_4090_11e9_aa0b_f46d046610b5row5_col7 {\n",
       "            background-color:  blue;\n",
       "        }    #T_95bfc478_4090_11e9_aa0b_f46d046610b5row5_col10 {\n",
       "            : ;\n",
       "            background-color:  pink;\n",
       "            : ;\n",
       "        }    #T_95bfc478_4090_11e9_aa0b_f46d046610b5row6_col0 {\n",
       "            : ;\n",
       "            : ;\n",
       "            background-color:  blue;\n",
       "        }    #T_95bfc478_4090_11e9_aa0b_f46d046610b5row6_col1 {\n",
       "            : ;\n",
       "            : ;\n",
       "            width:  10em;\n",
       "             height:  80%;\n",
       "            background:  linear-gradient(90deg,#d65f5f 87.2%, transparent 0%);\n",
       "            : ;\n",
       "        }    #T_95bfc478_4090_11e9_aa0b_f46d046610b5row6_col3 {\n",
       "            color: red;\n",
       "            : ;\n",
       "            : ;\n",
       "            : ;\n",
       "        }    #T_95bfc478_4090_11e9_aa0b_f46d046610b5row6_col4 {\n",
       "            color: blue;\n",
       "            : ;\n",
       "            : ;\n",
       "            : ;\n",
       "        }    #T_95bfc478_4090_11e9_aa0b_f46d046610b5row6_col6 {\n",
       "            background-color:  blue;\n",
       "        }    #T_95bfc478_4090_11e9_aa0b_f46d046610b5row6_col7 {\n",
       "            background-color:  blue;\n",
       "        }    #T_95bfc478_4090_11e9_aa0b_f46d046610b5row6_col8 {\n",
       "            background-color:  blue;\n",
       "        }    #T_95bfc478_4090_11e9_aa0b_f46d046610b5row6_col9 {\n",
       "            background-color:  blue;\n",
       "        }    #T_95bfc478_4090_11e9_aa0b_f46d046610b5row6_col10 {\n",
       "            background-color:  #861000;\n",
       "            : ;\n",
       "            : ;\n",
       "        }    #T_95bfc478_4090_11e9_aa0b_f46d046610b5row6_col11 {\n",
       "            background-color:  #861000;\n",
       "            : ;\n",
       "            : ;\n",
       "        }    #T_95bfc478_4090_11e9_aa0b_f46d046610b5row7_col1 {\n",
       "            : ;\n",
       "            : ;\n",
       "            width:  10em;\n",
       "             height:  80%;\n",
       "            background:  linear-gradient(90deg,#d65f5f 28.2%, transparent 0%);\n",
       "            : ;\n",
       "        }    #T_95bfc478_4090_11e9_aa0b_f46d046610b5row7_col3 {\n",
       "            color: pink;\n",
       "            : ;\n",
       "            : ;\n",
       "            : ;\n",
       "        }    #T_95bfc478_4090_11e9_aa0b_f46d046610b5row7_col4 {\n",
       "            color: blue;\n",
       "            : ;\n",
       "            : ;\n",
       "            : ;\n",
       "        }    #T_95bfc478_4090_11e9_aa0b_f46d046610b5row7_col10 {\n",
       "            : ;\n",
       "            background-color:  pink;\n",
       "            : ;\n",
       "        }    #T_95bfc478_4090_11e9_aa0b_f46d046610b5row7_col11 {\n",
       "            : ;\n",
       "            background-color:  pink;\n",
       "            : ;\n",
       "        }    #T_95bfc478_4090_11e9_aa0b_f46d046610b5row8_col1 {\n",
       "            : ;\n",
       "            : ;\n",
       "            width:  10em;\n",
       "             height:  80%;\n",
       "            background:  linear-gradient(90deg,#d65f5f 10.3%, transparent 0%);\n",
       "            : ;\n",
       "        }    #T_95bfc478_4090_11e9_aa0b_f46d046610b5row8_col3 {\n",
       "            color: pink;\n",
       "            : ;\n",
       "            : ;\n",
       "            : ;\n",
       "        }    #T_95bfc478_4090_11e9_aa0b_f46d046610b5row8_col4 {\n",
       "            color: blue;\n",
       "            : ;\n",
       "            : ;\n",
       "            : ;\n",
       "        }    #T_95bfc478_4090_11e9_aa0b_f46d046610b5row8_col11 {\n",
       "            : ;\n",
       "            background-color:  pink;\n",
       "            : ;\n",
       "        }    #T_95bfc478_4090_11e9_aa0b_f46d046610b5row9_col1 {\n",
       "            : ;\n",
       "            : ;\n",
       "            width:  10em;\n",
       "             height:  80%;\n",
       "            background:  linear-gradient(90deg,#d65f5f 2.6%, transparent 0%);\n",
       "            : ;\n",
       "        }    #T_95bfc478_4090_11e9_aa0b_f46d046610b5row9_col3 {\n",
       "            color: pink;\n",
       "            : ;\n",
       "            : ;\n",
       "            : ;\n",
       "        }    #T_95bfc478_4090_11e9_aa0b_f46d046610b5row9_col4 {\n",
       "            color: red;\n",
       "            : ;\n",
       "            : ;\n",
       "            : ;\n",
       "        }    #T_95bfc478_4090_11e9_aa0b_f46d046610b5row9_col11 {\n",
       "            : ;\n",
       "            background-color:  pink;\n",
       "            : ;\n",
       "        }    #T_95bfc478_4090_11e9_aa0b_f46d046610b5row10_col0 {\n",
       "            background-color:  #861000;\n",
       "            : ;\n",
       "            : ;\n",
       "        }    #T_95bfc478_4090_11e9_aa0b_f46d046610b5row10_col1 {\n",
       "            background-color:  #861000;\n",
       "            : ;\n",
       "            width:  10em;\n",
       "             height:  80%;\n",
       "            background:  linear-gradient(90deg,#d65f5f 100.0%, transparent 0%);\n",
       "            : ;\n",
       "        }    #T_95bfc478_4090_11e9_aa0b_f46d046610b5row10_col3 {\n",
       "            color: red;\n",
       "            : ;\n",
       "            : ;\n",
       "            : ;\n",
       "        }    #T_95bfc478_4090_11e9_aa0b_f46d046610b5row10_col4 {\n",
       "            color: red;\n",
       "            : ;\n",
       "            : ;\n",
       "            : ;\n",
       "        }</style>  \n",
       "<table id=\"T_95bfc478_4090_11e9_aa0b_f46d046610b5\" > \n",
       "<thead>    <tr> \n",
       "        <th class=\"blank level0\" ></th> \n",
       "        <th class=\"col_heading level0 col0\" >建筑年代</th> \n",
       "        <th class=\"col_heading level0 col1\" >物业费（元/平米）</th> \n",
       "        <th class=\"col_heading level0 col2\" >物业类型</th> \n",
       "        <th class=\"col_heading level0 col3\" >总价（万元）</th> \n",
       "        <th class=\"col_heading level0 col4\" >均价（元/平米）</th> \n",
       "        <th class=\"col_heading level0 col5\" >建筑面积</th> \n",
       "        <th class=\"col_heading level0 col6\" >结构</th> \n",
       "        <th class=\"col_heading level0 col7\" >住宅类别</th> \n",
       "        <th class=\"col_heading level0 col8\" >产权性质</th> \n",
       "        <th class=\"col_heading level0 col9\" >建筑类别</th> \n",
       "        <th class=\"col_heading level0 col10\" >几室</th> \n",
       "        <th class=\"col_heading level0 col11\" >几厅</th> \n",
       "    </tr></thead> \n",
       "<tbody>    <tr> \n",
       "        <th id=\"T_95bfc478_4090_11e9_aa0b_f46d046610b5level0_row0\" class=\"row_heading level0 row0\" >0</th> \n",
       "        <td id=\"T_95bfc478_4090_11e9_aa0b_f46d046610b5row0_col0\" class=\"data row0 col0\" >1989</td> \n",
       "        <td id=\"T_95bfc478_4090_11e9_aa0b_f46d046610b5row0_col1\" class=\"data row0 col1\" >1.5</td> \n",
       "        <td id=\"T_95bfc478_4090_11e9_aa0b_f46d046610b5row0_col2\" class=\"data row0 col2\" >住宅</td> \n",
       "        <td id=\"T_95bfc478_4090_11e9_aa0b_f46d046610b5row0_col3\" class=\"data row0 col3\" >30.6</td> \n",
       "        <td id=\"T_95bfc478_4090_11e9_aa0b_f46d046610b5row0_col4\" class=\"data row0 col4\" >4346.59</td> \n",
       "        <td id=\"T_95bfc478_4090_11e9_aa0b_f46d046610b5row0_col5\" class=\"data row0 col5\" >70.4</td> \n",
       "        <td id=\"T_95bfc478_4090_11e9_aa0b_f46d046610b5row0_col6\" class=\"data row0 col6\" >平层</td> \n",
       "        <td id=\"T_95bfc478_4090_11e9_aa0b_f46d046610b5row0_col7\" class=\"data row0 col7\" >普通住宅</td> \n",
       "        <td id=\"T_95bfc478_4090_11e9_aa0b_f46d046610b5row0_col8\" class=\"data row0 col8\" >个人产权</td> \n",
       "        <td id=\"T_95bfc478_4090_11e9_aa0b_f46d046610b5row0_col9\" class=\"data row0 col9\" >板楼</td> \n",
       "        <td id=\"T_95bfc478_4090_11e9_aa0b_f46d046610b5row0_col10\" class=\"data row0 col10\" >2</td> \n",
       "        <td id=\"T_95bfc478_4090_11e9_aa0b_f46d046610b5row0_col11\" class=\"data row0 col11\" >2</td> \n",
       "    </tr>    <tr> \n",
       "        <th id=\"T_95bfc478_4090_11e9_aa0b_f46d046610b5level0_row1\" class=\"row_heading level0 row1\" >1</th> \n",
       "        <td id=\"T_95bfc478_4090_11e9_aa0b_f46d046610b5row1_col0\" class=\"data row1 col0\" >1989</td> \n",
       "        <td id=\"T_95bfc478_4090_11e9_aa0b_f46d046610b5row1_col1\" class=\"data row1 col1\" >1</td> \n",
       "        <td id=\"T_95bfc478_4090_11e9_aa0b_f46d046610b5row1_col2\" class=\"data row1 col2\" >住宅</td> \n",
       "        <td id=\"T_95bfc478_4090_11e9_aa0b_f46d046610b5row1_col3\" class=\"data row1 col3\" >418</td> \n",
       "        <td id=\"T_95bfc478_4090_11e9_aa0b_f46d046610b5row1_col4\" class=\"data row1 col4\" >83902</td> \n",
       "        <td id=\"T_95bfc478_4090_11e9_aa0b_f46d046610b5row1_col5\" class=\"data row1 col5\" >49.82</td> \n",
       "        <td id=\"T_95bfc478_4090_11e9_aa0b_f46d046610b5row1_col6\" class=\"data row1 col6\" >平层</td> \n",
       "        <td id=\"T_95bfc478_4090_11e9_aa0b_f46d046610b5row1_col7\" class=\"data row1 col7\" >普通住宅</td> \n",
       "        <td id=\"T_95bfc478_4090_11e9_aa0b_f46d046610b5row1_col8\" class=\"data row1 col8\" >个人产权</td> \n",
       "        <td id=\"T_95bfc478_4090_11e9_aa0b_f46d046610b5row1_col9\" class=\"data row1 col9\" >塔楼</td> \n",
       "        <td id=\"T_95bfc478_4090_11e9_aa0b_f46d046610b5row1_col10\" class=\"data row1 col10\" >2</td> \n",
       "        <td id=\"T_95bfc478_4090_11e9_aa0b_f46d046610b5row1_col11\" class=\"data row1 col11\" >1</td> \n",
       "    </tr>    <tr> \n",
       "        <th id=\"T_95bfc478_4090_11e9_aa0b_f46d046610b5level0_row2\" class=\"row_heading level0 row2\" >2</th> \n",
       "        <td id=\"T_95bfc478_4090_11e9_aa0b_f46d046610b5row2_col0\" class=\"data row2 col0\" >2005</td> \n",
       "        <td id=\"T_95bfc478_4090_11e9_aa0b_f46d046610b5row2_col1\" class=\"data row2 col1\" >3.5</td> \n",
       "        <td id=\"T_95bfc478_4090_11e9_aa0b_f46d046610b5row2_col2\" class=\"data row2 col2\" >住宅</td> \n",
       "        <td id=\"T_95bfc478_4090_11e9_aa0b_f46d046610b5row2_col3\" class=\"data row2 col3\" >2650</td> \n",
       "        <td id=\"T_95bfc478_4090_11e9_aa0b_f46d046610b5row2_col4\" class=\"data row2 col4\" >91918.1</td> \n",
       "        <td id=\"T_95bfc478_4090_11e9_aa0b_f46d046610b5row2_col5\" class=\"data row2 col5\" >288.3</td> \n",
       "        <td id=\"T_95bfc478_4090_11e9_aa0b_f46d046610b5row2_col6\" class=\"data row2 col6\" >nan</td> \n",
       "        <td id=\"T_95bfc478_4090_11e9_aa0b_f46d046610b5row2_col7\" class=\"data row2 col7\" >普通住宅</td> \n",
       "        <td id=\"T_95bfc478_4090_11e9_aa0b_f46d046610b5row2_col8\" class=\"data row2 col8\" >个人产权</td> \n",
       "        <td id=\"T_95bfc478_4090_11e9_aa0b_f46d046610b5row2_col9\" class=\"data row2 col9\" >nan</td> \n",
       "        <td id=\"T_95bfc478_4090_11e9_aa0b_f46d046610b5row2_col10\" class=\"data row2 col10\" >4</td> \n",
       "        <td id=\"T_95bfc478_4090_11e9_aa0b_f46d046610b5row2_col11\" class=\"data row2 col11\" >2</td> \n",
       "    </tr>    <tr> \n",
       "        <th id=\"T_95bfc478_4090_11e9_aa0b_f46d046610b5level0_row3\" class=\"row_heading level0 row3\" >3</th> \n",
       "        <td id=\"T_95bfc478_4090_11e9_aa0b_f46d046610b5row3_col0\" class=\"data row3 col0\" >1994</td> \n",
       "        <td id=\"T_95bfc478_4090_11e9_aa0b_f46d046610b5row3_col1\" class=\"data row3 col1\" >0.4</td> \n",
       "        <td id=\"T_95bfc478_4090_11e9_aa0b_f46d046610b5row3_col2\" class=\"data row3 col2\" >住宅</td> \n",
       "        <td id=\"T_95bfc478_4090_11e9_aa0b_f46d046610b5row3_col3\" class=\"data row3 col3\" >280</td> \n",
       "        <td id=\"T_95bfc478_4090_11e9_aa0b_f46d046610b5row3_col4\" class=\"data row3 col4\" >50000</td> \n",
       "        <td id=\"T_95bfc478_4090_11e9_aa0b_f46d046610b5row3_col5\" class=\"data row3 col5\" >56</td> \n",
       "        <td id=\"T_95bfc478_4090_11e9_aa0b_f46d046610b5row3_col6\" class=\"data row3 col6\" >平层</td> \n",
       "        <td id=\"T_95bfc478_4090_11e9_aa0b_f46d046610b5row3_col7\" class=\"data row3 col7\" >nan</td> \n",
       "        <td id=\"T_95bfc478_4090_11e9_aa0b_f46d046610b5row3_col8\" class=\"data row3 col8\" >商品房</td> \n",
       "        <td id=\"T_95bfc478_4090_11e9_aa0b_f46d046610b5row3_col9\" class=\"data row3 col9\" >板楼</td> \n",
       "        <td id=\"T_95bfc478_4090_11e9_aa0b_f46d046610b5row3_col10\" class=\"data row3 col10\" >2</td> \n",
       "        <td id=\"T_95bfc478_4090_11e9_aa0b_f46d046610b5row3_col11\" class=\"data row3 col11\" >1</td> \n",
       "    </tr>    <tr> \n",
       "        <th id=\"T_95bfc478_4090_11e9_aa0b_f46d046610b5level0_row4\" class=\"row_heading level0 row4\" >4</th> \n",
       "        <td id=\"T_95bfc478_4090_11e9_aa0b_f46d046610b5row4_col0\" class=\"data row4 col0\" >1998</td> \n",
       "        <td id=\"T_95bfc478_4090_11e9_aa0b_f46d046610b5row4_col1\" class=\"data row4 col1\" >0.4</td> \n",
       "        <td id=\"T_95bfc478_4090_11e9_aa0b_f46d046610b5row4_col2\" class=\"data row4 col2\" >住宅</td> \n",
       "        <td id=\"T_95bfc478_4090_11e9_aa0b_f46d046610b5row4_col3\" class=\"data row4 col3\" >190</td> \n",
       "        <td id=\"T_95bfc478_4090_11e9_aa0b_f46d046610b5row4_col4\" class=\"data row4 col4\" >32758.6</td> \n",
       "        <td id=\"T_95bfc478_4090_11e9_aa0b_f46d046610b5row4_col5\" class=\"data row4 col5\" >58</td> \n",
       "        <td id=\"T_95bfc478_4090_11e9_aa0b_f46d046610b5row4_col6\" class=\"data row4 col6\" >平层</td> \n",
       "        <td id=\"T_95bfc478_4090_11e9_aa0b_f46d046610b5row4_col7\" class=\"data row4 col7\" >普通住宅</td> \n",
       "        <td id=\"T_95bfc478_4090_11e9_aa0b_f46d046610b5row4_col8\" class=\"data row4 col8\" >个人产权</td> \n",
       "        <td id=\"T_95bfc478_4090_11e9_aa0b_f46d046610b5row4_col9\" class=\"data row4 col9\" >钢混</td> \n",
       "        <td id=\"T_95bfc478_4090_11e9_aa0b_f46d046610b5row4_col10\" class=\"data row4 col10\" >2</td> \n",
       "        <td id=\"T_95bfc478_4090_11e9_aa0b_f46d046610b5row4_col11\" class=\"data row4 col11\" >1</td> \n",
       "    </tr>    <tr> \n",
       "        <th id=\"T_95bfc478_4090_11e9_aa0b_f46d046610b5level0_row5\" class=\"row_heading level0 row5\" >5</th> \n",
       "        <td id=\"T_95bfc478_4090_11e9_aa0b_f46d046610b5row5_col0\" class=\"data row5 col0\" >1986</td> \n",
       "        <td id=\"T_95bfc478_4090_11e9_aa0b_f46d046610b5row5_col1\" class=\"data row5 col1\" >0.85</td> \n",
       "        <td id=\"T_95bfc478_4090_11e9_aa0b_f46d046610b5row5_col2\" class=\"data row5 col2\" >住宅</td> \n",
       "        <td id=\"T_95bfc478_4090_11e9_aa0b_f46d046610b5row5_col3\" class=\"data row5 col3\" >205</td> \n",
       "        <td id=\"T_95bfc478_4090_11e9_aa0b_f46d046610b5row5_col4\" class=\"data row5 col4\" >58571.4</td> \n",
       "        <td id=\"T_95bfc478_4090_11e9_aa0b_f46d046610b5row5_col5\" class=\"data row5 col5\" >35</td> \n",
       "        <td id=\"T_95bfc478_4090_11e9_aa0b_f46d046610b5row5_col6\" class=\"data row5 col6\" >平层</td> \n",
       "        <td id=\"T_95bfc478_4090_11e9_aa0b_f46d046610b5row5_col7\" class=\"data row5 col7\" >nan</td> \n",
       "        <td id=\"T_95bfc478_4090_11e9_aa0b_f46d046610b5row5_col8\" class=\"data row5 col8\" >商品房</td> \n",
       "        <td id=\"T_95bfc478_4090_11e9_aa0b_f46d046610b5row5_col9\" class=\"data row5 col9\" >板楼</td> \n",
       "        <td id=\"T_95bfc478_4090_11e9_aa0b_f46d046610b5row5_col10\" class=\"data row5 col10\" >1</td> \n",
       "        <td id=\"T_95bfc478_4090_11e9_aa0b_f46d046610b5row5_col11\" class=\"data row5 col11\" >2</td> \n",
       "    </tr>    <tr> \n",
       "        <th id=\"T_95bfc478_4090_11e9_aa0b_f46d046610b5level0_row6\" class=\"row_heading level0 row6\" >6</th> \n",
       "        <td id=\"T_95bfc478_4090_11e9_aa0b_f46d046610b5row6_col0\" class=\"data row6 col0\" >nan</td> \n",
       "        <td id=\"T_95bfc478_4090_11e9_aa0b_f46d046610b5row6_col1\" class=\"data row6 col1\" >3.8</td> \n",
       "        <td id=\"T_95bfc478_4090_11e9_aa0b_f46d046610b5row6_col2\" class=\"data row6 col2\" >别墅</td> \n",
       "        <td id=\"T_95bfc478_4090_11e9_aa0b_f46d046610b5row6_col3\" class=\"data row6 col3\" >1000</td> \n",
       "        <td id=\"T_95bfc478_4090_11e9_aa0b_f46d046610b5row6_col4\" class=\"data row6 col4\" >42194.1</td> \n",
       "        <td id=\"T_95bfc478_4090_11e9_aa0b_f46d046610b5row6_col5\" class=\"data row6 col5\" >237</td> \n",
       "        <td id=\"T_95bfc478_4090_11e9_aa0b_f46d046610b5row6_col6\" class=\"data row6 col6\" >nan</td> \n",
       "        <td id=\"T_95bfc478_4090_11e9_aa0b_f46d046610b5row6_col7\" class=\"data row6 col7\" >nan</td> \n",
       "        <td id=\"T_95bfc478_4090_11e9_aa0b_f46d046610b5row6_col8\" class=\"data row6 col8\" >nan</td> \n",
       "        <td id=\"T_95bfc478_4090_11e9_aa0b_f46d046610b5row6_col9\" class=\"data row6 col9\" >nan</td> \n",
       "        <td id=\"T_95bfc478_4090_11e9_aa0b_f46d046610b5row6_col10\" class=\"data row6 col10\" >4</td> \n",
       "        <td id=\"T_95bfc478_4090_11e9_aa0b_f46d046610b5row6_col11\" class=\"data row6 col11\" >3</td> \n",
       "    </tr>    <tr> \n",
       "        <th id=\"T_95bfc478_4090_11e9_aa0b_f46d046610b5level0_row7\" class=\"row_heading level0 row7\" >7</th> \n",
       "        <td id=\"T_95bfc478_4090_11e9_aa0b_f46d046610b5row7_col0\" class=\"data row7 col0\" >1996</td> \n",
       "        <td id=\"T_95bfc478_4090_11e9_aa0b_f46d046610b5row7_col1\" class=\"data row7 col1\" >1.5</td> \n",
       "        <td id=\"T_95bfc478_4090_11e9_aa0b_f46d046610b5row7_col2\" class=\"data row7 col2\" >住宅</td> \n",
       "        <td id=\"T_95bfc478_4090_11e9_aa0b_f46d046610b5row7_col3\" class=\"data row7 col3\" >230</td> \n",
       "        <td id=\"T_95bfc478_4090_11e9_aa0b_f46d046610b5row7_col4\" class=\"data row7 col4\" >46000</td> \n",
       "        <td id=\"T_95bfc478_4090_11e9_aa0b_f46d046610b5row7_col5\" class=\"data row7 col5\" >50</td> \n",
       "        <td id=\"T_95bfc478_4090_11e9_aa0b_f46d046610b5row7_col6\" class=\"data row7 col6\" >平层</td> \n",
       "        <td id=\"T_95bfc478_4090_11e9_aa0b_f46d046610b5row7_col7\" class=\"data row7 col7\" >普通住宅</td> \n",
       "        <td id=\"T_95bfc478_4090_11e9_aa0b_f46d046610b5row7_col8\" class=\"data row7 col8\" >个人产权</td> \n",
       "        <td id=\"T_95bfc478_4090_11e9_aa0b_f46d046610b5row7_col9\" class=\"data row7 col9\" >板楼</td> \n",
       "        <td id=\"T_95bfc478_4090_11e9_aa0b_f46d046610b5row7_col10\" class=\"data row7 col10\" >1</td> \n",
       "        <td id=\"T_95bfc478_4090_11e9_aa0b_f46d046610b5row7_col11\" class=\"data row7 col11\" >1</td> \n",
       "    </tr>    <tr> \n",
       "        <th id=\"T_95bfc478_4090_11e9_aa0b_f46d046610b5level0_row8\" class=\"row_heading level0 row8\" >8</th> \n",
       "        <td id=\"T_95bfc478_4090_11e9_aa0b_f46d046610b5row8_col0\" class=\"data row8 col0\" >1994</td> \n",
       "        <td id=\"T_95bfc478_4090_11e9_aa0b_f46d046610b5row8_col1\" class=\"data row8 col1\" >0.8</td> \n",
       "        <td id=\"T_95bfc478_4090_11e9_aa0b_f46d046610b5row8_col2\" class=\"data row8 col2\" >住宅</td> \n",
       "        <td id=\"T_95bfc478_4090_11e9_aa0b_f46d046610b5row8_col3\" class=\"data row8 col3\" >273</td> \n",
       "        <td id=\"T_95bfc478_4090_11e9_aa0b_f46d046610b5row8_col4\" class=\"data row8 col4\" >39674.5</td> \n",
       "        <td id=\"T_95bfc478_4090_11e9_aa0b_f46d046610b5row8_col5\" class=\"data row8 col5\" >68.81</td> \n",
       "        <td id=\"T_95bfc478_4090_11e9_aa0b_f46d046610b5row8_col6\" class=\"data row8 col6\" >平层</td> \n",
       "        <td id=\"T_95bfc478_4090_11e9_aa0b_f46d046610b5row8_col7\" class=\"data row8 col7\" >普通住宅</td> \n",
       "        <td id=\"T_95bfc478_4090_11e9_aa0b_f46d046610b5row8_col8\" class=\"data row8 col8\" >商品房</td> \n",
       "        <td id=\"T_95bfc478_4090_11e9_aa0b_f46d046610b5row8_col9\" class=\"data row8 col9\" >塔楼</td> \n",
       "        <td id=\"T_95bfc478_4090_11e9_aa0b_f46d046610b5row8_col10\" class=\"data row8 col10\" >2</td> \n",
       "        <td id=\"T_95bfc478_4090_11e9_aa0b_f46d046610b5row8_col11\" class=\"data row8 col11\" >1</td> \n",
       "    </tr>    <tr> \n",
       "        <th id=\"T_95bfc478_4090_11e9_aa0b_f46d046610b5level0_row9\" class=\"row_heading level0 row9\" >9</th> \n",
       "        <td id=\"T_95bfc478_4090_11e9_aa0b_f46d046610b5row9_col0\" class=\"data row9 col0\" >1996</td> \n",
       "        <td id=\"T_95bfc478_4090_11e9_aa0b_f46d046610b5row9_col1\" class=\"data row9 col1\" >0.5</td> \n",
       "        <td id=\"T_95bfc478_4090_11e9_aa0b_f46d046610b5row9_col2\" class=\"data row9 col2\" >住宅</td> \n",
       "        <td id=\"T_95bfc478_4090_11e9_aa0b_f46d046610b5row9_col3\" class=\"data row9 col3\" >410</td> \n",
       "        <td id=\"T_95bfc478_4090_11e9_aa0b_f46d046610b5row9_col4\" class=\"data row9 col4\" >56944.4</td> \n",
       "        <td id=\"T_95bfc478_4090_11e9_aa0b_f46d046610b5row9_col5\" class=\"data row9 col5\" >72</td> \n",
       "        <td id=\"T_95bfc478_4090_11e9_aa0b_f46d046610b5row9_col6\" class=\"data row9 col6\" >平层</td> \n",
       "        <td id=\"T_95bfc478_4090_11e9_aa0b_f46d046610b5row9_col7\" class=\"data row9 col7\" >普通住宅</td> \n",
       "        <td id=\"T_95bfc478_4090_11e9_aa0b_f46d046610b5row9_col8\" class=\"data row9 col8\" >个人产权</td> \n",
       "        <td id=\"T_95bfc478_4090_11e9_aa0b_f46d046610b5row9_col9\" class=\"data row9 col9\" >板楼</td> \n",
       "        <td id=\"T_95bfc478_4090_11e9_aa0b_f46d046610b5row9_col10\" class=\"data row9 col10\" >2</td> \n",
       "        <td id=\"T_95bfc478_4090_11e9_aa0b_f46d046610b5row9_col11\" class=\"data row9 col11\" >1</td> \n",
       "    </tr>    <tr> \n",
       "        <th id=\"T_95bfc478_4090_11e9_aa0b_f46d046610b5level0_row10\" class=\"row_heading level0 row10\" >10</th> \n",
       "        <td id=\"T_95bfc478_4090_11e9_aa0b_f46d046610b5row10_col0\" class=\"data row10 col0\" >2011</td> \n",
       "        <td id=\"T_95bfc478_4090_11e9_aa0b_f46d046610b5row10_col1\" class=\"data row10 col1\" >4.3</td> \n",
       "        <td id=\"T_95bfc478_4090_11e9_aa0b_f46d046610b5row10_col2\" class=\"data row10 col2\" >住宅</td> \n",
       "        <td id=\"T_95bfc478_4090_11e9_aa0b_f46d046610b5row10_col3\" class=\"data row10 col3\" >1000</td> \n",
       "        <td id=\"T_95bfc478_4090_11e9_aa0b_f46d046610b5row10_col4\" class=\"data row10 col4\" >90909.1</td> \n",
       "        <td id=\"T_95bfc478_4090_11e9_aa0b_f46d046610b5row10_col5\" class=\"data row10 col5\" >110</td> \n",
       "        <td id=\"T_95bfc478_4090_11e9_aa0b_f46d046610b5row10_col6\" class=\"data row10 col6\" >平层</td> \n",
       "        <td id=\"T_95bfc478_4090_11e9_aa0b_f46d046610b5row10_col7\" class=\"data row10 col7\" >普通住宅</td> \n",
       "        <td id=\"T_95bfc478_4090_11e9_aa0b_f46d046610b5row10_col8\" class=\"data row10 col8\" >个人产权</td> \n",
       "        <td id=\"T_95bfc478_4090_11e9_aa0b_f46d046610b5row10_col9\" class=\"data row10 col9\" >板楼</td> \n",
       "        <td id=\"T_95bfc478_4090_11e9_aa0b_f46d046610b5row10_col10\" class=\"data row10 col10\" >2</td> \n",
       "        <td id=\"T_95bfc478_4090_11e9_aa0b_f46d046610b5row10_col11\" class=\"data row10 col11\" >2</td> \n",
       "    </tr></tbody> \n",
       "</table> "
      ],
      "text/plain": [
       "<pandas.io.formats.style.Styler at 0x9fb8f90>"
      ]
     },
     "execution_count": 38,
     "metadata": {},
     "output_type": "execute_result"
    }
   ],
   "source": [
    "demos.head(11).style.\\\n",
    "    applymap(colors,subset=['均价（元/平米）']).\\\n",
    "    applymap(colorss,subset=['总价（万元）']).\\\n",
    "    highlight_max(color='#861000').\\\n",
    "    highlight_min(color='pink').\\\n",
    "    bar(color='#d65f5f',subset=['物业费（元/平米）']).\\\n",
    "    highlight_null(null_color='blue')"
   ]
  },
  {
   "cell_type": "code",
   "execution_count": 39,
   "metadata": {},
   "outputs": [],
   "source": [
    "demos.to_csv('上海房屋2017成交信息.csv',encoding='gbk',index=False)"
   ]
  },
  {
   "cell_type": "code",
   "execution_count": null,
   "metadata": {},
   "outputs": [],
   "source": []
  }
 ],
 "metadata": {
  "kernelspec": {
   "display_name": "Python 3",
   "language": "python",
   "name": "python3"
  },
  "language_info": {
   "codemirror_mode": {
    "name": "ipython",
    "version": 3
   },
   "file_extension": ".py",
   "mimetype": "text/x-python",
   "name": "python",
   "nbconvert_exporter": "python",
   "pygments_lexer": "ipython3",
   "version": "3.6.5"
  }
 },
 "nbformat": 4,
 "nbformat_minor": 2
}
